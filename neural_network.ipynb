{
  "nbformat": 4,
  "nbformat_minor": 0,
  "metadata": {
    "colab": {
      "name": "Копия блокнота \"human_in_the_loop.ipynb\" от Николая",
      "provenance": [],
      "collapsed_sections": []
    },
    "kernelspec": {
      "name": "python3",
      "display_name": "Python 3"
    },
    "language_info": {
      "name": "python"
    },
    "accelerator": "GPU"
  },
  "cells": [
    {
      "cell_type": "markdown",
      "metadata": {
        "id": "4glgiwuqv2F_"
      },
      "source": [
        "За год гитхаб nomeroff-net сильно изменился и код neural_network_deprecated.ipynb перестал работать. Nikolay Shcherbakov обновил код и ноутбук снова заработал, за что Николаю огромное спасибо."
      ]
    },
    {
      "cell_type": "code",
      "metadata": {
        "id": "E3MRA-ugSbct"
      },
      "source": [
        "import os\n",
        "import requests\n",
        "import pandas as pd\n",
        "import matplotlib.pyplot as plt\n",
        "from typing import Callable, Iterable, Dict, List\n",
        "from tqdm.notebook import tqdm\n",
        "from concurrent.futures import ProcessPoolExecutor"
      ],
      "execution_count": null,
      "outputs": []
    },
    {
      "cell_type": "markdown",
      "metadata": {
        "id": "Vg6LQci4f1Py"
      },
      "source": [
        "# Ставим либу с нейронкой\n",
        "\n",
        "Мы будем использовать open-source проект [nomeroff-net](https://github.com/ria-com/nomeroff-net) для распознавания номеров, а точнее говоря, его форк с исправленными импортами"
      ]
    },
    {
      "cell_type": "code",
      "metadata": {
        "id": "DYArEjytqSqL"
      },
      "source": [
        "!git clone https://github.com/Kucev/nomeroff-net.git"
      ],
      "execution_count": null,
      "outputs": []
    },
    {
      "cell_type": "markdown",
      "metadata": {
        "id": "fuKO-zdqRHdX"
      },
      "source": [
        "\n",
        "При запуске в colab может написать ошибку установки пакетов:\n",
        "```Python\n",
        "ERROR: pip's dependency resolver does not currently take into account all the packages that are installed.\n",
        "albumentations 0.1.12 requires imgaug<0.2.7,>=0.2.5, but you have imgaug 0.4.0 which is incompatible.\n",
        "```\n",
        "\n",
        "Но на самом деле - [`usually these error messages are nothing to worry about`](https://github.com/apple/turicreate/issues/3383) (аналогичная проблема возникла у ankitthakur007 работая в colab). \n",
        "\n",
        "Можно не переживать - все будет корректно работать, при желании можно перезапустить cell и ошибка исчезнет."
      ]
    },
    {
      "cell_type": "code",
      "metadata": {
        "id": "SZAwbZogtRLD"
      },
      "source": [
        "! pip install -r nomeroff-net/requirements.txt"
      ],
      "execution_count": null,
      "outputs": []
    },
    {
      "cell_type": "markdown",
      "metadata": {
        "id": "TXJxMn0uToPc"
      },
      "source": [
        "# Скачиваем изображения"
      ]
    },
    {
      "cell_type": "code",
      "metadata": {
        "id": "pJr1efE5Skd8"
      },
      "source": [
        "# У каждого студента свой вариант\n",
        "VARIANT = 100\n",
        "VARIANT_URL = f\"https://storage.yandexcloud.net/plates/tasks_spring_2021/{VARIANT}.csv\"\n",
        "\n",
        "# Получаем датафрейм с ссылками на изображения\n",
        "images_links = pd.read_csv(VARIANT_URL)\n",
        "images_links.head(3)\n",
        "\n",
        "# Создаем папку для хранения данных\n",
        "os.makedirs('images', exist_ok = True)"
      ],
      "execution_count": null,
      "outputs": []
    },
    {
      "cell_type": "code",
      "metadata": {
        "id": "03I5UcdFS7fv"
      },
      "source": [
        "# Параллельно загружаем изображения\n",
        "def download_image(row: Dict[str, str]):\n",
        "    bin_image = requests.get(row['url']).content\n",
        "    return (row['id'], bin_image)\n",
        "\n",
        "def parallel_download(load_func: Callable, iterable: List[Dict[str, str]]):\n",
        "    with ProcessPoolExecutor(max_workers=16) as executor:\n",
        "        images = list(tqdm(executor.map(load_func, iterable), total=len(iterable)))\n",
        "    return images\n",
        "\n",
        "images = parallel_download(download_image, images_links.to_dict('records'))"
      ],
      "execution_count": null,
      "outputs": []
    },
    {
      "cell_type": "code",
      "metadata": {
        "id": "QwxGoM8OYDX6"
      },
      "source": [
        "# Последовательно пишем на диск\n",
        "for filename, bin_image in tqdm(images):\n",
        "    with open(f\"images/{filename}\", 'wb') as file:\n",
        "        file.write(bin_image)"
      ],
      "execution_count": null,
      "outputs": []
    },
    {
      "cell_type": "markdown",
      "metadata": {
        "id": "rewg86ZMwtPA"
      },
      "source": [
        "# Прогоняем скачанные изображения через нейронную сеть\n",
        "\n",
        "Рекомендуется запускать этот ноутбук в Google Colab"
      ]
    },
    {
      "cell_type": "code",
      "metadata": {
        "id": "OwWA2TvRxAqL"
      },
      "source": [
        "# нейронку можно запустить на GPU, либо на CPU\n",
        "# os.environ[\"CUDA_VISIBLE_DEVICES\"] = \"\"  # For CPU inference\n",
        "os.environ[\"CUDA_VISIBLE_DEVICES\"] = \"0\" \n",
        "\n",
        "import torch\n",
        "torch.cuda.is_available(), torch.cuda.get_device_name(0)"
      ],
      "execution_count": null,
      "outputs": []
    },
    {
      "cell_type": "code",
      "metadata": {
        "id": "EzHsxN3exOpj"
      },
      "source": [
        "import cv2\n",
        "import sys\n",
        "\n",
        "# NomeroffNet path\n",
        "NOMEROFF_NET_DIR = os.path.abspath('nomeroff-net/')\n",
        "sys.path.append(NOMEROFF_NET_DIR)\n",
        "\n",
        "from NomeroffNet.YoloV5Detector import Detector\n",
        "from NomeroffNet.BBoxNpPoints import NpPointsCraft, convertCvZonesRGBtoBGR, getCvZoneRGB, reshapePoints\n",
        "from NomeroffNet.OptionsDetector import OptionsDetector\n",
        "from NomeroffNet.TextDetectors.ru import ru"
      ],
      "execution_count": null,
      "outputs": []
    },
    {
      "cell_type": "code",
      "metadata": {
        "id": "hRzkgQ6tz-5A"
      },
      "source": [
        "# models loading\n",
        "\n",
        "detector = Detector()\n",
        "detector.load();\n",
        "\n",
        "npPointsCraft = NpPointsCraft()\n",
        "npPointsCraft.load();\n",
        "\n",
        "optionsDetector = OptionsDetector()\n",
        "optionsDetector.load(\"latest\");\n",
        "\n",
        "textDetector = ru\n",
        "textDetector.load(\"latest\");"
      ],
      "execution_count": null,
      "outputs": []
    },
    {
      "cell_type": "code",
      "metadata": {
        "id": "Et4EWZZb0Is7"
      },
      "source": [
        "import traceback\n",
        "import warnings\n",
        "warnings.filterwarnings(\"ignore\")\n",
        "\n",
        "class EmptyTargetBoxes(Exception):\n",
        "  \"\"\"Модель не обнаружила номер на фото\"\"\"\n",
        "  pass\n",
        "\n",
        "def parse_boxes_detector_out(model_output):\n",
        "    \"\"\"\n",
        "    Из всех распознанных box с номерами вовзращаем только один наибольшей площади,\n",
        "      (поскольку задача найти номер ближайшего авто), а также саму площадь и accuracy модели\n",
        "    \"\"\"\n",
        "    boxes = [([box], (box[2] - box[0]) * (box[3]-box[1]), box[4]) for box in model_output]\n",
        "    sort_by_area = sorted(boxes, key=lambda x: x[1], reverse=True)\n",
        "    if sort_by_area:\n",
        "      return sort_by_area[0]\n",
        "    else:\n",
        "      raise EmptyTargetBoxes()\n",
        "\n",
        "# Ниже может выпасть исключение на моменте вызова функции parse_boxes_detector_out, а именно sort_by_area - IndexError\n",
        "# Когда модель не смогла обнаружить какой-либо target_box, предлагается воспользоваться сервисом Толока для их обработки\n",
        "\n",
        "number_not_founded = []\n",
        "model_outputs = []\n",
        "for filename in tqdm(os.listdir(\"images\")):\n",
        "    try:\n",
        "        img = cv2.imread(f\"images/{filename}\")\n",
        "        img = cv2.cvtColor(img, cv2.COLOR_BGR2RGB)\n",
        "        \n",
        "        # detected target Boxes with number\n",
        "        target_boxes = detector.detect_bbox(img)\n",
        "        target_box, box_square, box_acc = parse_boxes_detector_out(target_boxes)\n",
        "        \n",
        "        # Ниже все контейнеры будут иметь одну и то же кол-во элементов (1), \n",
        "        # поскольку мы обрабатываем только один крупнейший target Box\n",
        "        all_points = npPointsCraft.detect(img, target_box,[5,2,0])\n",
        "        zones = convertCvZonesRGBtoBGR([getCvZoneRGB(img, reshapePoints(rect, 1)) for rect in all_points])\n",
        "\n",
        "        # определение региона\n",
        "        region_ids, _ = optionsDetector.predict(zones)\n",
        "        region = optionsDetector.getRegionLabels(region_ids)[0]\n",
        "\n",
        "        # финальный результат + выход с фин слоя нейронки\n",
        "        text, neur_out = textDetector.predict(zones, return_acc=True);\n",
        "\n",
        "        # accuracy OCR\n",
        "        text_acc = torch.tensor(neur_out).softmax(2)[0].max(axis=1)[0].mean().item()\n",
        "\n",
        "        # собираем результат\n",
        "        img_data = {\n",
        "            \"filename\": filename,\n",
        "            \"latin_text\": text[0].upper(),\n",
        "            \"text_acc\": text_acc,\n",
        "            \"region\": region,\n",
        "            \"box_left\": int(target_box[0][0]),\n",
        "            \"box_up\": int(target_box[0][1]),\n",
        "            \"box_right\": int(target_box[0][2]),\n",
        "            \"box_bottom\": int(target_box[0][3]),\n",
        "            \"box_square\": box_square,\n",
        "            \"box_acc\": box_acc\n",
        "        }\n",
        "        model_outputs.append(img_data)\n",
        "\n",
        "    except EmptyTargetBoxes:\n",
        "        print(f\"Номер не найден - {filename}\")\n",
        "        number_not_founded.append(filename)\n",
        "\n",
        "    except Exception:\n",
        "        print(\"-----------------------\")\n",
        "        print(f\"Возникло исключение при обработке фото - {filename}\")\n",
        "        print(traceback.format_exc())\n",
        "        print(\"-----------------------\")"
      ],
      "execution_count": null,
      "outputs": []
    },
    {
      "cell_type": "code",
      "metadata": {
        "id": "DpL305djWwgl"
      },
      "source": [
        "len(number_not_founded)"
      ],
      "execution_count": null,
      "outputs": []
    },
    {
      "cell_type": "markdown",
      "metadata": {
        "id": "1hUAa1piLti5"
      },
      "source": [
        "### Модель возвращает текст в латинице - переведем его в кириллицу"
      ]
    },
    {
      "cell_type": "code",
      "metadata": {
        "id": "4cuMnn66F774"
      },
      "source": [
        "latin_to_cyrillic = {\n",
        "    \"a\": \"а\",\n",
        "    \"b\": \"в\",\n",
        "    \"c\": \"с\",\n",
        "    \"e\": \"е\",\n",
        "    \"h\": \"н\",\n",
        "    \"k\": \"к\",\n",
        "    \"m\": \"м\",\n",
        "    \"o\": \"о\",\n",
        "    \"p\": \"р\",\n",
        "    \"t\": \"т\",\n",
        "    \"x\": \"х\",\n",
        "    \"y\": \"у\",\n",
        "}"
      ],
      "execution_count": null,
      "outputs": []
    },
    {
      "cell_type": "code",
      "metadata": {
        "id": "hSzMmMhGMpLM"
      },
      "source": [
        "def transform_number(number, mapping):\n",
        "    transformed = \"\"\n",
        "    for ch in number.lower():\n",
        "        transformed += mapping.get(ch, ch)\n",
        "    return transformed.upper()\n",
        "\n",
        "df_from_model = pd.DataFrame(model_outputs)\n",
        "df_from_model.loc[:, 'cyrillic_text'] = df_from_model.loc[:, 'latin_text'].apply(transform_number, mapping=latin_to_cyrillic)\n",
        "\n",
        "df_from_model.head(3)"
      ],
      "execution_count": null,
      "outputs": []
    },
    {
      "cell_type": "code",
      "metadata": {
        "id": "dRlIDjBCa6ZV"
      },
      "source": [
        "images_links['predict'] = None\n",
        "images_links['confidence'] = None\n",
        "for i in images_links.index:\n",
        "  id_ = images_links.loc[i,'id']\n",
        "  if id_ in  list(df_from_model['filename']):\n",
        "    tmp = df_from_model[df_from_model['filename'] == id_]\n",
        "    images_links.loc[i,'predict'] = tmp['cyrillic_text'].iloc[0]\n",
        "    images_links.loc[i,'confidence'] = tmp['box_acc'].iloc[0]"
      ],
      "execution_count": null,
      "outputs": []
    },
    {
      "cell_type": "code",
      "metadata": {
        "id": "yTIA5y27ND2g"
      },
      "source": [
        "# сохраняем в ту же директорию результат\n",
        "images_links.to_csv(f\"{VARIANT}_with_prediction_nn.csv\", index=None)"
      ],
      "execution_count": null,
      "outputs": []
    },
    {
      "cell_type": "markdown",
      "metadata": {
        "id": "XtEIw_k0KUlG"
      },
      "source": [
        "# Отрисовка результатов"
      ]
    },
    {
      "cell_type": "code",
      "metadata": {
        "id": "zIo3klBV39kn"
      },
      "source": [
        "  from IPython import display\n",
        "\n",
        "def drawBoundingBoxes(imageData, latin_text, box_left, box_up, box_right, box_bottom, color):\n",
        "    \"\"\"Draw bounding boxes on an image\"\"\"\n",
        "    imgHeight, imgWidth, _ = imageData.shape\n",
        "    line_size = int((imgHeight + imgWidth) // 900) + 1\n",
        "    cv2.rectangle(imageData,(box_left, box_up), (box_right, box_bottom), color, line_size)\n",
        "    cv2.putText(imageData, latin_text, (box_left, box_bottom + 40), 0, 1e-3 * imgHeight, color, line_size)\n",
        "    return imageData\n",
        "\n",
        "\n",
        "def show_image(filename, latin_text, text_acc, box_left, box_up, box_right, box_bottom, color=(255, 0, 0), figsize=(12, 12), **__):\n",
        "    fig, ax = plt.subplots(figsize=figsize)\n",
        "    img = cv2.imread(f\"images/{filename}\")\n",
        "    img = cv2.cvtColor(img, cv2.COLOR_BGR2RGB)\n",
        "    img = drawBoundingBoxes(img, latin_text, box_left, box_up, box_right, box_bottom, color)\n",
        "    ax.imshow(img)\n",
        "    ax.set_title(f\"{filename} - {round(text_acc, 3)}\")\n",
        "    display.display(fig)"
      ],
      "execution_count": null,
      "outputs": []
    },
    {
      "cell_type": "code",
      "metadata": {
        "id": "S4OtQwc7Gha7"
      },
      "source": [
        "show_image(**df_from_model.iloc[12])"
      ],
      "execution_count": null,
      "outputs": []
    }
  ]
}